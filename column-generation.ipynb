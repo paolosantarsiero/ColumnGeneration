{
 "cells": [
  {
   "cell_type": "markdown",
   "metadata": {},
   "source": [
    "# Librerie utilizzate"
   ]
  },
  {
   "cell_type": "code",
   "execution_count": 17,
   "metadata": {},
   "outputs": [],
   "source": [
    "from pulp import * # per modellare il problema e risolverlo\n",
    "import numpy as np # per creare array\n",
    "import math #per arrotondamenti superiori\n",
    "import csv"
   ]
  },
  {
   "cell_type": "markdown",
   "metadata": {},
   "source": [
    "# Master problem o problema ristretto"
   ]
  },
  {
   "cell_type": "code",
   "execution_count": 18,
   "metadata": {},
   "outputs": [],
   "source": [
    "class MasterProblem:\n",
    "\tdef __init__(self, lunghezza_max, lunghezza_assi, domanda_assi, patterns, mostraRisultati):\n",
    "\t\t\n",
    "\t\tself.lunghezza_max=lunghezza_max\n",
    "\t\tself.lunghezze_assi=lunghezza_assi\n",
    "\t\tself.domande_assi=domanda_assi\n",
    "\t\tself.patterns= patterns\n",
    "\t\t\n",
    "\t\tself.prob = LpProblem('MasterProblem',LpMinimize)\n",
    "\t\tself.obj = LpConstraintVar(\"obj\")\n",
    "\t\tself.prob.setObjective(self.obj)\n",
    "\n",
    "\t\tself.iterazione = 0\n",
    "\t\tself.mostraRisultati = mostraRisultati\n",
    "\t\t\n",
    "\t\t# generazione lista di vincoli\n",
    "\t\tself.PatternVars=[]\n",
    "\t\tself.lista_vincoli=[]\n",
    "\t\tfor index,value in enumerate(domanda_assi):\n",
    "\t\t\tvar=LpConstraintVar(\"C\"+str(index),LpConstraintGE,value)  # generazione vincolo a_ij * x_j >= d_i\n",
    "\t\t\tself.lista_vincoli.append(var)\n",
    "\t\t\tself.prob+=var\n",
    "\n",
    "\t\t# generazione della matrice A quindi i valori a_ij\n",
    "\t\tfor i,x in enumerate(self.patterns):\n",
    "\t\t\ttemp=[]\n",
    "\t\t\tfor j,y in enumerate(x):\n",
    "\t\t\t\t# solo quelle >0 per creare la variabile\n",
    "\t\t\t\tif y>0: \n",
    "\t\t\t\t\ttemp.append(j)\n",
    "\n",
    "\t\t\t# generazione di variabili con solo coeffiecienti > 0, cioè quanti pezzi di un certo tipo per il pattern i-esimo\n",
    "\t\t\tvar=LpVariable(\"x\"+str(i + 1), 0, None, LpContinuous, lpSum(self.obj+[self.lista_vincoli[v] for v in temp]))\n",
    "\t\t\tself.PatternVars.append(var)\n",
    "\t\t\n",
    "\t# risolvi il problem master restituendo la soluzione duale u*\n",
    "\tdef risolvi(self):\n",
    "\t\tself.prob.writeLP('master.lp')\n",
    "\t\tself.prob.solve()\n",
    "\t\tif self.mostraRisultati:\n",
    "\t\t\tprint(\"Iterazione\", iterazione)\n",
    "\t\t\tprint(\"Ottimo primale\", value(self.prob.objective))\n",
    "\t\tself.iterazione = self.iterazione + 1\n",
    "\t\treturn [self.prob.constraints[i].pi for i in self.prob.constraints]\n",
    "\t\t\n",
    "\t\t\t\n",
    "\t# column generation => aggiungi il pattern al problema ristretto\n",
    "\tdef aggiungiPattern(self,pattern):\n",
    "\t\t\n",
    "\t\tself.patterns.append(pattern)\n",
    "\t\ttemp=[]\n",
    "\t\t\n",
    "\t\tfor j,y in enumerate(pattern):\n",
    "\t\t\tif y>0: \n",
    "\t\t\t\ttemp.append(j)\n",
    "\n",
    "\t\t# aggiungi le variabili con lo stesso criterio di prima\n",
    "\t\tvar=LpVariable(\"x\"+str(len(self.patterns) + 1)\t, 0, None, LpContinuous, lpSum(self.obj+[pattern[v]*self.lista_vincoli[v] for v in temp]))\n",
    "\t\tself.PatternVars.append(var)\n",
    "\n",
    "\tdef getOttimo(self):\n",
    "\t\treturn math.ceil(value(self.prob.objective))\n",
    "\t\n",
    "\tdef getPatternsSoluzione(self):\n",
    "\t\tpatternList=[]\n",
    "\t\tfor i,x in enumerate(self.PatternVars):\n",
    "\t\t\tif value(x)>0:\n",
    "\t\t\t\tpatternList.append((value(x),self.patterns[i]))\n",
    "\t\treturn patternList\n",
    "\n",
    "\t#arrotonda la soluzione a interi quando non ci sono nuovi pattern (soluzione ottima)\n",
    "\tdef arrotonda(self):\n",
    "\t\tfor var in self.prob.variables():\n",
    "\t\t\t\tvar.cat = LpInteger\n",
    "\t\t\t"
   ]
  },
  {
   "cell_type": "markdown",
   "metadata": {},
   "source": [
    "# Slave problem"
   ]
  },
  {
   "cell_type": "code",
   "execution_count": 19,
   "metadata": {},
   "outputs": [],
   "source": [
    "class SlaveProblem:\n",
    "    def __init__(self,duale, itemLengths,maxValue):\n",
    "        self.prob=LpProblem(\"SlaveProblem\",LpMaximize)\n",
    "        self.lista_var=[LpVariable('q'+str(i + 1),0,None,LpInteger) for i in range(len(duale))]\n",
    "        self.prob+=lpSum([duale[i]*x for i,x in enumerate(self.lista_var)]) #costruzione del duale\n",
    "        self.prob+=lpSum([itemLengths[i]*x for i,x in enumerate(self.lista_var)])<=maxValue\n",
    "        \n",
    "        self.prob.writeLP('slave.lp')\n",
    "        self.prob.solve()\n",
    "\n",
    "    def risolviSlave(self):\n",
    "        pattern=False\n",
    "        # TEST OTTIMALITA'\n",
    "        if value(self.prob.objective) > 1:\n",
    "            pattern=[]\n",
    "            for v in self.lista_var:\n",
    "                pattern.append(value(v))\n",
    "        return pattern"
   ]
  },
  {
   "cell_type": "markdown",
   "metadata": {},
   "source": [
    "# Risoluzione di un'istanza"
   ]
  },
  {
   "cell_type": "code",
   "execution_count": 20,
   "metadata": {},
   "outputs": [
    {
     "name": "stdout",
     "output_type": "stream",
     "text": [
      "Lunghezze assi : [280, 279, 277, 276, 274, 273, 272, 271, 270, 269, 268, 267, 266, 265, 264, 263, 262, 261, 260, 259, 258, 257, 256, 255, 254, 253, 252, 251, 250, 249, 248, 247, 246, 245, 243, 242, 241, 240, 239, 238, 237, 235, 234, 233, 232, 230, 228, 227, 226, 225, 224, 223, 222, 221, 220, 219, 217, 216, 215, 214, 212, 211, 210, 209, 208, 207, 206, 204, 203, 202, 201, 200, 198, 197, 195, 194, 193, 192, 191, 190, 189, 188, 187, 186, 185, 184, 183, 182, 181, 180, 179, 178, 176, 175, 174, 173, 172, 171, 170, 169, 168, 167, 165, 164, 163, 162, 161, 160, 159, 158, 157, 156, 155, 154, 152, 151, 150, 149, 148, 147, 146, 145, 143, 142, 141, 140, 139, 138, 137, 136, 135, 134, 133, 132, 131, 130, 129, 128, 127, 126, 125, 124, 123, 122, 121, 120, 119, 118, 117, 115, 114, 113, 110, 109, 108, 107, 104, 102, 101, 100, 99, 98, 97, 96, 95, 94, 92, 91, 89, 88, 87, 85, 84, 83, 82, 81, 80]\n",
      "Domande assi : [2, 4, 2, 1, 2, 2, 1, 7, 1, 1, 2, 5, 4, 5, 2, 2, 4, 4, 4, 2, 1, 2, 2, 3, 5, 1, 2, 4, 2, 2, 1, 6, 5, 5, 4, 3, 2, 5, 5, 3, 2, 6, 4, 4, 1, 3, 3, 2, 2, 3, 4, 2, 5, 3, 2, 7, 5, 1, 2, 4, 1, 1, 5, 2, 2, 2, 1, 2, 4, 1, 1, 4, 2, 4, 2, 3, 5, 2, 1, 3, 2, 1, 2, 7, 5, 3, 2, 5, 2, 3, 5, 1, 7, 1, 2, 1, 3, 3, 3, 5, 2, 2, 1, 2, 2, 1, 5, 1, 1, 1, 3, 2, 4, 1, 2, 5, 4, 3, 1, 1, 2, 6, 1, 2, 1, 1, 2, 1, 4, 1, 3, 5, 3, 1, 2, 2, 3, 2, 2, 2, 3, 3, 3, 3, 5, 5, 4, 4, 5, 2, 3, 1, 4, 5, 1, 1, 2, 8, 1, 3, 1, 4, 3, 2, 2, 3, 4, 3, 1, 3, 4, 3, 5, 3, 2, 3, 2]\n",
      "\n",
      "Ottimo: 236 assi da tagliare\n",
      "Trovato in 396 iterazioni\n"
     ]
    }
   ],
   "source": [
    "# GENERAZIONE ISTANZA\n",
    "lunghezza_max_asse=0\n",
    "lunghezza_assi=[]\n",
    "domanda_assi=[]\n",
    "\n",
    "# test istanza piccola\n",
    "debug = False\n",
    "mostraRisultati = False\n",
    "\n",
    "if(debug):\n",
    "\tlunghezza_max_asse = 110\n",
    "\tlunghezza_assi=[20, 45, 50, 55, 75]\n",
    "\tdomanda_assi=[48, 35, 24, 10, 8]\n",
    "else:\n",
    "\twith open('instance.csv', newline='') as csvfile:\n",
    "\t\treader = csv.reader(csvfile, delimiter=',')\n",
    "\t\tfor i,row in enumerate(reader):\n",
    "\t\t\tif i == 0:\n",
    "\t\t\t\tlunghezza_max_asse = int(row[0])\n",
    "\t\t\telse:\n",
    "\t\t\t\tlunghezza_assi.append(int(row[0]))\n",
    "\t\t\t\tdomanda_assi.append(int(row[1]))\n",
    "\n",
    "if len(lunghezza_assi) != len(domanda_assi):\n",
    "\tprint('ERRORE', \"la cardinalità dell'insieme lunghezza e domanda non è uguale\")\n",
    "\tassert False\n",
    "else:\n",
    "\tnr_assi = len(lunghezza_assi)\n",
    "\t\n",
    "print(\"Lunghezze assi : %s\" % lunghezza_assi)\n",
    "print(\"Domande assi : %s\\n\" % domanda_assi)\n",
    "\n",
    "# soluzione di partenza: usare patterns con un solo asse per ogni i-esimo tipo\n",
    "patterns=[]\n",
    "for i in range(nr_assi):\n",
    "\tpattern=np.zeros(nr_assi)\n",
    "\tpattern[i] = 1.0\n",
    "\tpatterns.append(pattern)\n",
    "\n",
    "masterProblem=MasterProblem(lunghezza_max_asse,lunghezza_assi,domanda_assi,patterns,mostraRisultati)\n",
    "\t\n",
    "solOttima=False\n",
    "iterazione = 0\n",
    "while solOttima==False:   # once no more new columns can be generated set relaxed to False\n",
    "\n",
    "\tduale=masterProblem.risolvi()\n",
    "\tslaveProblem=SlaveProblem(duale,lunghezza_assi,lunghezza_max_asse)\n",
    "\tnewPattern=slaveProblem.risolviSlave()\n",
    "\t\n",
    "\tif newPattern:\n",
    "\t\tmasterProblem.aggiungiPattern(newPattern)\n",
    "\t\tif mostraRisultati:\n",
    "\t\t\tprint(\"Nuovo pattern aggiunto\", newPattern)\n",
    "\telse:\n",
    "\t\tmasterProblem.arrotonda()\n",
    "\t\tmasterProblem.risolvi()\n",
    "\t\tsolOttima=True\n",
    "\titerazione=iterazione+1\n",
    "\n",
    "ottimo = masterProblem.getOttimo()\n",
    "print(\"Ottimo: %s assi da tagliare\" % ottimo)\n",
    "print(\"Trovato in %s iterazioni\" % iterazione)\n",
    "\n",
    "if mostraRisultati:\n",
    "\tfor pattern in masterProblem.getPatternsSoluzione():\n",
    "\t\tprint(\"%s utilizzato %s volte \" % (pattern[1],pattern[0]))"
   ]
  }
 ],
 "metadata": {
  "interpreter": {
   "hash": "916dbcbb3f70747c44a77c7bcd40155683ae19c65e1c03b4aa3499c5328201f1"
  },
  "kernelspec": {
   "display_name": "Python 3.8.6 64-bit",
   "name": "python3"
  },
  "language_info": {
   "codemirror_mode": {
    "name": "ipython",
    "version": 3
   },
   "file_extension": ".py",
   "mimetype": "text/x-python",
   "name": "python",
   "nbconvert_exporter": "python",
   "pygments_lexer": "ipython3",
   "version": "3.8.6"
  },
  "orig_nbformat": 4
 },
 "nbformat": 4,
 "nbformat_minor": 2
}