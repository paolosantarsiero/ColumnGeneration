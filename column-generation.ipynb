{
 "cells": [
  {
   "cell_type": "markdown",
   "metadata": {},
   "source": [
    "# Librerie utilizzate"
   ]
  },
  {
   "cell_type": "code",
   "execution_count": 148,
   "metadata": {},
   "outputs": [],
   "source": [
    "from pulp import * # per modellare il problema e risolverlo\n",
    "import numpy as np # per creare array\n",
    "import math #per arrotondamenti superiori"
   ]
  },
  {
   "cell_type": "markdown",
   "metadata": {},
   "source": [
    "# Master problem o problema ristretto"
   ]
  },
  {
   "cell_type": "code",
   "execution_count": 149,
   "metadata": {},
   "outputs": [],
   "source": [
    "class MasterProblem:\n",
    "\tdef __init__(self, lunghezza_max, lunghezza_assi, domanda_assi, patterns):\n",
    "\t\t\n",
    "\t\tself.lunghezza_max=lunghezza_max\n",
    "\t\tself.lunghezze_assi=lunghezza_assi\n",
    "\t\tself.domande_assi=domanda_assi\n",
    "\t\tself.patterns= patterns\n",
    "\t\t\n",
    "\t\tself.prob = LpProblem('MasterProblem',LpMinimize)\n",
    "\t\tself.obj = LpConstraintVar(\"obj\")\n",
    "\t\tself.prob.setObjective(self.obj)\n",
    "\t\t\n",
    "\t\t# generazione lista di vincoli\n",
    "\t\tself.PatternVars=[]\n",
    "\t\tself.lista_vincoli=[]\n",
    "\t\tfor index,value in enumerate(domanda_assi):\n",
    "\t\t\tvar=LpConstraintVar(\"C\"+str(index),LpConstraintGE,value)  # generazione vincolo a_ij * x_j >= d_i\n",
    "\t\t\tself.lista_vincoli.append(var)\n",
    "\t\t\tself.prob+=var\n",
    "\n",
    "\t\t# generazione della matrice A quindi i valori a_ij\n",
    "\t\tfor i,x in enumerate(self.patterns):\n",
    "\t\t\ttemp=[]\n",
    "\t\t\tfor j,y in enumerate(x):\n",
    "\t\t\t\t# solo quelle >0 per creare la variabile\n",
    "\t\t\t\tif y>0: \n",
    "\t\t\t\t\ttemp.append(j)\n",
    "\n",
    "\t\t\t# generazione di variabili con solo coeffiecienti > 0, cioè quanti pezzi di un certo tipo per il pattern i-esimo\n",
    "\t\t\tvar=LpVariable(\"x\"+str(i + 1), 0, None, LpContinuous, lpSum(self.obj+[self.lista_vincoli[v] for v in temp]))\n",
    "\t\t\tself.PatternVars.append(var)\n",
    "\t\t\n",
    "\t# risolvi il problem master restituendo la soluzione duale u*\n",
    "\tdef risolvi(self):\n",
    "\t\tself.prob.writeLP('master.lp')\n",
    "\t\tself.prob.solve()\n",
    "\t\treturn [self.prob.constraints[i].pi for i in self.prob.constraints]\n",
    "\t\t\n",
    "\t\t\t\n",
    "\t# column generation => aggiungi il pattern al problema ristretto\n",
    "\tdef aggiungiPattern(self,pattern):\n",
    "\t\t\n",
    "\t\tself.patterns.append(pattern)\n",
    "\t\ttemp=[]\n",
    "\t\t\n",
    "\t\tfor j,y in enumerate(pattern):\n",
    "\t\t\tif y>0: \n",
    "\t\t\t\ttemp.append(j)\n",
    "\n",
    "\t\t# aggiungi le variabili con lo stesso criterio di prima\n",
    "\t\tvar=LpVariable(\"x\"+str(len(self.patterns) + 1)\t, 0, None, LpContinuous, lpSum(self.obj+[pattern[v]*self.lista_vincoli[v] for v in temp]))\n",
    "\t\tself.PatternVars.append(var)\n",
    "\n",
    "\tdef getOttimo(self):\n",
    "\t\treturn value(self.prob.objective)"
   ]
  },
  {
   "cell_type": "markdown",
   "metadata": {},
   "source": [
    "# Slave problem"
   ]
  },
  {
   "cell_type": "code",
   "execution_count": 150,
   "metadata": {},
   "outputs": [],
   "source": [
    "class SlaveProblem:\n",
    "    def __init__(self,duale, itemLengths,maxValue):\n",
    "        self.prob=LpProblem(\"SlaveProblem\",LpMaximize)\n",
    "        self.lista_var=[LpVariable('q'+str(i + 1),0,None,LpInteger) for i in range(len(duale))]\n",
    "        self.prob+=lpSum([duale[i]*x for i,x in enumerate(self.lista_var)])  #use duals to set objective coefficients\n",
    "        self.prob+=lpSum([itemLengths[i]*x for i,x in enumerate(self.lista_var)])<=maxValue \n",
    "\n",
    "        self.prob.writeLP('slave.lp')\n",
    "        self.prob.solve() \n",
    "\n",
    "    def risolviSlave(self):\n",
    "        pattern=False\n",
    "        # TEST OTTIMALITA'\n",
    "        if value(self.prob.objective) > 1:\n",
    "            pattern=[]\n",
    "            for v in self.lista_var:\n",
    "                pattern.append(value(v))\n",
    "        return pattern"
   ]
  },
  {
   "cell_type": "markdown",
   "metadata": {},
   "source": [
    "# Risoluzione di un'istanza"
   ]
  },
  {
   "cell_type": "code",
   "execution_count": 151,
   "metadata": {},
   "outputs": [
    {
     "name": "stdout",
     "output_type": "stream",
     "text": [
      "Lunghezze assi : [20, 45, 50, 55, 75]\n",
      "Domande assi : [48, 35, 24, 10, 8]\n",
      "\n",
      "Ottimo: 47 assi da tagliare\n"
     ]
    }
   ],
   "source": [
    "nr_assi=5\n",
    "lunghezza_max_asse=110\n",
    "\n",
    "\n",
    "lunghezza_assi=[20, 45, 50, 55, 75]\n",
    "domanda_assi=[48, 35, 24, 10, 8]\n",
    "\n",
    "\n",
    "if len(lunghezza_assi) != len(domanda_assi):\n",
    "\tprint('ERRORE', \"la cardinalità dell'insieme lunghezza e domanda non è uguale\")\n",
    "else:\n",
    "\tnr_assi = len(lunghezza_assi)\n",
    "\t\n",
    "print(\"Lunghezze assi : %s\" % lunghezza_assi)\n",
    "print(\"Domande assi : %s\\n\" % domanda_assi)\n",
    "\n",
    "\n",
    "# soluzione di partenza: usare patterns con un solo asse per ogni i-esimo tipo\n",
    "patterns=[]\n",
    "for i in range(nr_assi):\n",
    "\tpattern=np.zeros(nr_assi)\n",
    "\tpattern[i] = 1.0\n",
    "\tpatterns.append(pattern)\n",
    "\n",
    "masterProblem=MasterProblem(lunghezza_max_asse,lunghezza_assi,domanda_assi,patterns)\n",
    "\t\n",
    "solOttima=False\n",
    "while solOttima==False:   # once no more new columns can be generated set relaxed to False\n",
    "\n",
    "\tduale=masterProblem.risolvi()\n",
    "\tslaveProblem=SlaveProblem(duale,lunghezza_assi,lunghezza_max_asse)\n",
    "\tnewPattern=slaveProblem.risolviSlave()\n",
    "\t\n",
    "\tif newPattern:\n",
    "\t\tmasterProblem.aggiungiPattern(newPattern)\n",
    "\telse:\n",
    "\t\tsolOttima = True\n",
    "\t\tmasterProblem.risolvi()\n",
    "\t\tsolOttima=True\n",
    "\n",
    "ottimo = math.ceil(masterProblem.getOttimo())\n",
    "print(\"Ottimo: %s assi da tagliare\" % ottimo)\n"
   ]
  },
  {
   "cell_type": "code",
   "execution_count": null,
   "metadata": {},
   "outputs": [],
   "source": []
  }
 ],
 "metadata": {
  "interpreter": {
   "hash": "916dbcbb3f70747c44a77c7bcd40155683ae19c65e1c03b4aa3499c5328201f1"
  },
  "kernelspec": {
   "display_name": "Python 3.8.6 64-bit",
   "name": "python3"
  },
  "language_info": {
   "codemirror_mode": {
    "name": "ipython",
    "version": 3
   },
   "file_extension": ".py",
   "mimetype": "text/x-python",
   "name": "python",
   "nbconvert_exporter": "python",
   "pygments_lexer": "ipython3",
   "version": "3.8.6"
  },
  "orig_nbformat": 4
 },
 "nbformat": 4,
 "nbformat_minor": 2
}